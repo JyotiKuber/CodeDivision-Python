{
  "nbformat": 4,
  "nbformat_minor": 0,
  "metadata": {
    "colab": {
      "provenance": [],
      "include_colab_link": true
    },
    "kernelspec": {
      "name": "python3",
      "display_name": "Python 3"
    },
    "language_info": {
      "name": "python"
    }
  },
  "cells": [
    {
      "cell_type": "markdown",
      "metadata": {
        "id": "view-in-github",
        "colab_type": "text"
      },
      "source": [
        "<a href=\"https://colab.research.google.com/github/JyotiKuber/CodeDivision-Python/blob/main/Copy_of_Worksheet_functions_datetime.ipynb\" target=\"_parent\"><img src=\"https://colab.research.google.com/assets/colab-badge.svg\" alt=\"Open In Colab\"/></a>"
      ]
    },
    {
      "cell_type": "markdown",
      "metadata": {
        "id": "7iQyKP-SQiw1"
      },
      "source": [
        "# User-defined functions using datetime library\n",
        "\n",
        "---\n"
      ]
    },
    {
      "cell_type": "markdown",
      "metadata": {
        "id": "Vi93h5I4QnKs"
      },
      "source": [
        "When working with dates and times, fairly common in data sets, we need to be able to extract certain bits of information.  \n",
        "\n",
        "In Python, as with other languages, dates and times are stored in a data structure that combines the two together and stores the information as a number of seconds since a start point (often 1st January 1900).  This is obviously a large number but every bit of information about a date can be extracted from it and used to give a wide range of information.  \n",
        "\n",
        "Have a go at the exercises below to use a selection of datetime functions and return a new bit of data from each, to be printed by the caller.\n",
        "\n",
        "Before you can use datetime functions you will need to import them. Import the datetime functions like this:\n",
        "\n",
        "`from datetime import datetime`  \n",
        "\n",
        "\n",
        "For more information about datetime functions visit [w3Schools-Python datetime](https://www.w3schools.com/python/python_datetime.asp) and [Python docs](https://docs.python.org/3/library/datetime.html)"
      ]
    },
    {
      "cell_type": "markdown",
      "metadata": {
        "id": "MIDLi7CNR034"
      },
      "source": [
        "---\n",
        "### Exercise 1 - print current date and time\n",
        "\n",
        "Write a function that will return the date and time now.  The caller will print it.  \n",
        "\n",
        "*Hint:  the format has been added for you, the other exercises will follow a similar format.   Always remember to import datetime from datetime as shown below*"
      ]
    },
    {
      "cell_type": "code",
      "metadata": {
        "id": "gS6GJdXbQfHp",
        "colab": {
          "base_uri": "https://localhost:8080/"
        },
        "outputId": "ff2c273c-8ca8-49a2-f5bb-1ac50a5c0796"
      },
      "source": [
        "from datetime import datetime, timezone\n",
        "# add your function, called get_datetime_now() below here\n",
        "def get_datetime_now():\n",
        "  x = datetime.now()\n",
        "  return x\n",
        "\n",
        "\n",
        "now_date_time = get_datetime_now()\n",
        "print(\"Date and Time now:\",now_date_time)"
      ],
      "execution_count": null,
      "outputs": [
        {
          "output_type": "stream",
          "name": "stdout",
          "text": [
            "Date and Time now: 2022-12-01 21:19:41.976509\n"
          ]
        }
      ]
    },
    {
      "cell_type": "markdown",
      "metadata": {
        "id": "Yy24sL0bUtpF"
      },
      "source": [
        "---\n",
        "Exercise 2 - print the current year\n",
        "\n",
        "Write a function that will return the current year.  The caller will print the year."
      ]
    },
    {
      "cell_type": "code",
      "metadata": {
        "id": "YqlQqPIqUtyr",
        "colab": {
          "base_uri": "https://localhost:8080/"
        },
        "outputId": "e3d3066c-9e41-4332-d8b3-f82eb41a84ef"
      },
      "source": [
        "from datetime import datetime, timezone\n",
        "\n",
        "def get_current_year():\n",
        "  x = datetime.now()\n",
        "  return (x.year)\n",
        "\n",
        "\n",
        "current_year= get_current_year()\n",
        "print(\"Current Year:\",current_year)"
      ],
      "execution_count": null,
      "outputs": [
        {
          "output_type": "stream",
          "name": "stdout",
          "text": [
            "Current Year: 2022\n"
          ]
        }
      ]
    },
    {
      "cell_type": "markdown",
      "metadata": {
        "id": "FzSVCaJKV1O1"
      },
      "source": [
        "---\n",
        "### Exercise 3 - print the current day of the week\n",
        "\n",
        "Write a function that will return the current day of the week.  The caller will print it."
      ]
    },
    {
      "cell_type": "code",
      "metadata": {
        "id": "OP4ZIXBWV1Yj",
        "colab": {
          "base_uri": "https://localhost:8080/"
        },
        "outputId": "61cb13dd-278a-42b5-8b54-487ce01ef2d2"
      },
      "source": [
        "from datetime import datetime, timezone\n",
        "\n",
        "def get_day_of_the_week():\n",
        "  x = datetime.now()\n",
        "  return (x.strftime(\"%A\"))\n",
        "\n",
        "\n",
        "day_of_week = get_day_of_the_week()\n",
        "print(\"Today is\",day_of_week)"
      ],
      "execution_count": null,
      "outputs": [
        {
          "output_type": "stream",
          "name": "stdout",
          "text": [
            "Today is Thursday\n"
          ]
        }
      ]
    },
    {
      "cell_type": "markdown",
      "metadata": {
        "id": "a8euCtdmWIDE"
      },
      "source": [
        "---\n",
        "### Exercise 4 - create a new date\n",
        "\n",
        "Write a function that will take 3 parameters, day, month, year (3 numbers that make a valid date) and will create, and return a new date.  The caller will print the date."
      ]
    },
    {
      "cell_type": "code",
      "metadata": {
        "id": "FbOFnTwnWILN",
        "colab": {
          "base_uri": "https://localhost:8080/"
        },
        "outputId": "b6461007-0b89-4251-9966-ba95c6f87f55"
      },
      "source": [
        "from datetime import datetime, timezone\n",
        "\n",
        "def genrate_new_date(day,month,year):\n",
        "  x = datetime(year,month,day)\n",
        "  return (x.strftime(\"%d %B %Y\"))\n",
        "\n",
        "\n",
        "new_date = genrate_new_date(28,5,2015)\n",
        "print(\"New date is: \",new_date)"
      ],
      "execution_count": null,
      "outputs": [
        {
          "output_type": "stream",
          "name": "stdout",
          "text": [
            "New date is:  28 May 2015\n"
          ]
        }
      ]
    },
    {
      "cell_type": "markdown",
      "metadata": {
        "id": "f5SKVuE0WfcE"
      },
      "source": [
        "---\n",
        "### Exercise 5 - create a valid date\n",
        "\n",
        "Write a function that will take 3 parameters, day, month, year (3 numbers) and will:  \n",
        "*   check that the month is between 1 and 12  \n",
        "*   check that the day is valid for the month (e.g. if the month is 2, then the day must be between 1 and 28 (don't worry about leap years for the moment)  \n",
        "*   if the date is not valid, print an error message and return None (which the caller will print)  \n",
        "*   if the date is valid, store it in a new variable, return the variable and the caller will print it."
      ]
    },
    {
      "cell_type": "code",
      "metadata": {
        "id": "gclt-f9-XfdG",
        "colab": {
          "base_uri": "https://localhost:8080/"
        },
        "outputId": "100e2846-4366-4436-ddd6-d7a25bd0f59f"
      },
      "source": [
        "from datetime import datetime, timezone\n",
        "\n",
        "def genrate_new_date(day,month,year):\n",
        "\n",
        "  if month >= 1 and month <=12:\n",
        "    if day >= 1 and day <= 28:\n",
        "      x = datetime(year,month,day)\n",
        "      valid_date = x.strftime(\"%d %B %Y\")\n",
        "      return valid_date\n",
        "\n",
        "  else:\n",
        "      print(\"The date is not valid.\")\n",
        "      return None\n",
        "\n",
        "\n",
        "new_date = genrate_new_date(28,5,2015)\n",
        "print(new_date)\n",
        "new_date = genrate_new_date(28,15,2015)\n",
        "print(new_date)"
      ],
      "execution_count": null,
      "outputs": [
        {
          "output_type": "stream",
          "name": "stdout",
          "text": [
            "28 May 2015\n",
            "The date is not valid.\n",
            "None\n"
          ]
        }
      ]
    },
    {
      "cell_type": "markdown",
      "metadata": {
        "id": "js7fy2HWXfm2"
      },
      "source": [
        "---\n",
        "### Exercise 6 - is it a leap year?\n",
        "\n",
        "Write a function that will take a date as a parameter (you will need to create the date variable before calling the function) and will determine if it is a leap year, returning True or False.\n",
        "\n",
        "*Hint:  a leap year is a year that is divisible by 4 but the centuries (1900, 2000, etc are only leap years if they are divisible by 400)*"
      ]
    },
    {
      "cell_type": "code",
      "metadata": {
        "id": "KY1jtf3lX_ps"
      },
      "source": [
        "from datetime import datetime\n",
        "def is_leap_year(date_to_check):\n",
        "  # add your code below here\n",
        "  \n",
        "\n",
        "\n",
        "\n",
        "check_date = datetime(1996, 12, 15)\n",
        "if is_leap_year(check_date):\n",
        "  print(check_date.strftime(\"%Y\"), \"is a leap year\")\n",
        "else:\n",
        "  print(check_date.strftime(\"%Y\"), \"is not a leap year\")"
      ],
      "execution_count": null,
      "outputs": []
    },
    {
      "cell_type": "markdown",
      "metadata": {
        "id": "9BuRDi08YAO0"
      },
      "source": [
        "---\n",
        "### Exercise 7 - display parts of date/time\n",
        "\n",
        "Write a function that will take a date and print from it the following:  \n",
        "*  given date and time  \n",
        "*  year (in full) \n",
        "*  month (as a number) \n",
        "*  month name \n",
        "*  week number of the year  \n",
        "*  weekday of the week (as a number)  \n",
        "*  day of year  \n",
        "*  day of the month  \n",
        "*  day of week (as a name)  \n",
        "\n",
        "*Hint:  see w3Schools for [strftime reference](https://www.w3schools.com/python/python_datetime.asp)*\n",
        "\n"
      ]
    },
    {
      "cell_type": "code",
      "source": [
        "from datetime import datetime, timezone\n",
        "\n",
        "def genrate_new_date(day,month,year):\n",
        "\n",
        "  if month >= 1 and month <=12:\n",
        "    if day >= 1 and day <= 28:\n",
        "      x = datetime(year,month,day)\n",
        "\n",
        "      print(\"Given date and time: \",x.strftime(\"%d %B %Y\"))\n",
        "      print(\"Year(in full)\", x.strftime(\"%Y\"))\n",
        "\n",
        "      print(\"Month(as a number):\",x.strftime(\"%m\"))\n",
        "      print(\"Month name:\",x.strftime(\"%B\"))\n",
        "\n",
        "      print(\"Week number of the year:\",x.strftime(\"%U\"))\n",
        "      print(\"Weekday of the week(as a number):\", x.strftime(\"%w\"))\n",
        "\n",
        "      print(\"day of year:\", x.strftime(\"%j\"))\n",
        "      print(\"day of the month:\", x.strftime(\"%d\"))\n",
        "      print(\"day of week(as a name) :\", x.strftime(\"%A\"))\n",
        "      return\n",
        "\n",
        "  else:\n",
        "      print(\"The date is not valid.\")\n",
        "      return None\n",
        "\n",
        "\n",
        "genrate_new_date(28,5,2015)\n",
        "\n",
        "\n"
      ],
      "metadata": {
        "id": "3QQfeVezG1Ak",
        "colab": {
          "base_uri": "https://localhost:8080/"
        },
        "outputId": "075b938d-8b71-46b0-dde4-1cadc27738f3"
      },
      "execution_count": 1,
      "outputs": [
        {
          "output_type": "stream",
          "name": "stdout",
          "text": [
            "Given date and time:  28 May 2015\n",
            "Year(in full) 2015\n",
            "Month(as a number): 05\n",
            "Month name: May\n",
            "Week number of the year: 21\n",
            "Weekday of the week(as a number): 4\n",
            "day of year: 148\n",
            "day of the month: 28\n",
            "day of week(as a name) : Thursday\n"
          ]
        }
      ]
    },
    {
      "cell_type": "markdown",
      "metadata": {
        "id": "_rpTIoSDaiBj"
      },
      "source": [
        "---\n",
        "### Exercise 8 - next 6 days\n",
        "\n",
        "Write a function that will take a date and generate the dates of the following 6 days.  It should print each of the 6 days in the form:  \n",
        "\n",
        "DAY OF THE WEEK, MONTH NAME, FULL YEAR\n",
        "\n",
        "Hint:  to generate the days, use the function datetime.timedelta(), there is a good example of its use [here](https://www.geeksforgeeks.org/python-datetime-timedelta-function/)  "
      ]
    },
    {
      "cell_type": "code",
      "metadata": {
        "id": "1d-oXqLLb0vX",
        "colab": {
          "base_uri": "https://localhost:8080/"
        },
        "outputId": "41c289b2-2c80-4981-b78b-ce48eba4f5bc"
      },
      "source": [
        "from datetime import datetime, timezone,timedelta\n",
        "\n",
        "def genrate_new_date(day,month,year):\n",
        "\n",
        "  if month >= 1 and month <=12:\n",
        "    if day >= 1 and day <= 28:\n",
        "      x = datetime(year,month,day)\n",
        "\n",
        "      print(\"Given date and time: \", x.strftime(\"%d %B %Y\"))\n",
        "      print(\"Day of the week, Month Name, Full year\")\n",
        "      for i in range(1,7):\n",
        "        next_date = x + timedelta(days = i)\n",
        "        print(next_date.strftime(\"%d %B %Y\"))\n",
        "\n",
        "      return\n",
        "\n",
        "  else:\n",
        "      print(\"The date is not valid.\")\n",
        "      return None\n",
        "\n",
        "\n",
        "genrate_new_date(28,5,2015)\n"
      ],
      "execution_count": 2,
      "outputs": [
        {
          "output_type": "stream",
          "name": "stdout",
          "text": [
            "Given date and time:  28 May 2015\n",
            "Day of the week, Month Name, Full year\n",
            "29 May 2015\n",
            "30 May 2015\n",
            "31 May 2015\n",
            "01 June 2015\n",
            "02 June 2015\n",
            "03 June 2015\n"
          ]
        }
      ]
    },
    {
      "cell_type": "markdown",
      "metadata": {
        "id": "22Rhwx2Sb1Ey"
      },
      "source": [
        "---\n",
        "### Optional extra practice\n",
        "\n",
        "There are some similar and some more challenging exercises [here](https://www.w3resource.com/python-exercises/date-time-exercise/) if you would like to practice more. The site has its own editor."
      ]
    }
  ]
}